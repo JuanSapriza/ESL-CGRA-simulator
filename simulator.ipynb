{
 "cells": [
  {
   "cell_type": "code",
   "execution_count": 1,
   "id": "93cdc330-9553-4750-9f9b-ced2c9da81e2",
   "metadata": {
    "tags": []
   },
   "outputs": [
    {
     "name": "stdout",
     "output_type": "stream",
     "text": [
      "6\n",
      "2\n"
     ]
    },
    {
     "ename": "FileNotFoundError",
     "evalue": "[Errno 2] No such file or directory: 'strsearch/inputs.csv'",
     "output_type": "error",
     "traceback": [
      "\u001b[0;31m---------------------------------------------------------------------------\u001b[0m",
      "\u001b[0;31mFileNotFoundError\u001b[0m                         Traceback (most recent call last)",
      "Cell \u001b[0;32mIn[1], line 11\u001b[0m\n\u001b[1;32m      7\u001b[0m \u001b[39mfrom\u001b[39;00m \u001b[39msat_to_csv\u001b[39;00m \u001b[39mimport\u001b[39;00m \u001b[39m*\u001b[39m\n\u001b[1;32m      9\u001b[0m convert( \u001b[39m\"\u001b[39m\u001b[39mstrsearch/out.sat\u001b[39m\u001b[39m\"\u001b[39m, \u001b[39m\"\u001b[39m\u001b[39mstrsearch/instructions.csv\u001b[39m\u001b[39m\"\u001b[39m )\n\u001b[0;32m---> 11\u001b[0m run(\u001b[39m\"\u001b[39;49m\u001b[39mstrsearch\u001b[39;49m\u001b[39m\"\u001b[39;49m )\n",
      "File \u001b[0;32m~/Desktop/ESL/9_simCGRA/cgra.py:309\u001b[0m, in \u001b[0;36mrun\u001b[0;34m(kernel, version)\u001b[0m\n\u001b[1;32m    307\u001b[0m \u001b[39mwith\u001b[39;00m \u001b[39mopen\u001b[39m( kernel \u001b[39m+\u001b[39m \u001b[39m\"\u001b[39m\u001b[39m/instructions\u001b[39m\u001b[39m\"\u001b[39m\u001b[39m+\u001b[39mversion\u001b[39m+\u001b[39m\u001b[39m\"\u001b[39m\u001b[39m.csv\u001b[39m\u001b[39m\"\u001b[39m, \u001b[39m'\u001b[39m\u001b[39mr\u001b[39m\u001b[39m'\u001b[39m) \u001b[39mas\u001b[39;00m f:\n\u001b[1;32m    308\u001b[0m     \u001b[39mfor\u001b[39;00m row \u001b[39min\u001b[39;00m csv\u001b[39m.\u001b[39mreader(f): ker\u001b[39m.\u001b[39mappend(row)\n\u001b[0;32m--> 309\u001b[0m \u001b[39mwith\u001b[39;00m \u001b[39mopen\u001b[39;49m( kernel \u001b[39m+\u001b[39;49m \u001b[39m\"\u001b[39;49m\u001b[39m/inputs.csv\u001b[39;49m\u001b[39m\"\u001b[39;49m, \u001b[39m'\u001b[39;49m\u001b[39mr\u001b[39;49m\u001b[39m'\u001b[39;49m) \u001b[39mas\u001b[39;00m f:\n\u001b[1;32m    310\u001b[0m     \u001b[39mfor\u001b[39;00m row \u001b[39min\u001b[39;00m csv\u001b[39m.\u001b[39mreader(f): inp\u001b[39m.\u001b[39mappend(row)\n\u001b[1;32m    311\u001b[0m \u001b[39mwith\u001b[39;00m \u001b[39mopen\u001b[39m( kernel \u001b[39m+\u001b[39m \u001b[39m\"\u001b[39m\u001b[39m/memory.csv\u001b[39m\u001b[39m\"\u001b[39m, \u001b[39m'\u001b[39m\u001b[39mr\u001b[39m\u001b[39m'\u001b[39m) \u001b[39mas\u001b[39;00m f:\n",
      "\u001b[0;31mFileNotFoundError\u001b[0m: [Errno 2] No such file or directory: 'strsearch/inputs.csv'"
     ]
    }
   ],
   "source": [
    "import os\n",
    "import sys\n",
    "\n",
    "# sys.path.insert(0,\"./converter/\")\n",
    "sys.path.append(\"./\")\n",
    "from cgra import *\n",
    "from sat_to_csv import *\n",
    "\n",
    "convert( \"strsearch/out.sat\", \"strsearch/instructions.csv\" )\n",
    "\n",
    "run(\"strsearch\" )"
   ]
  },
  {
   "cell_type": "code",
   "execution_count": null,
   "id": "88657fbf",
   "metadata": {},
   "outputs": [],
   "source": []
  }
 ],
 "metadata": {
  "kernelspec": {
   "display_name": "Python 3 (ipykernel)",
   "language": "python",
   "name": "python3"
  },
  "language_info": {
   "codemirror_mode": {
    "name": "ipython",
    "version": 3
   },
   "file_extension": ".py",
   "mimetype": "text/x-python",
   "name": "python",
   "nbconvert_exporter": "python",
   "pygments_lexer": "ipython3",
   "version": "3.10.12"
  }
 },
 "nbformat": 4,
 "nbformat_minor": 5
}
