{
 "cells": [
  {
   "attachments": {},
   "cell_type": "markdown",
   "id": "9c085e9d",
   "metadata": {},
   "source": [
    "# Test a ready kernel"
   ]
  },
  {
   "cell_type": "code",
   "execution_count": 3,
   "id": "93cdc330-9553-4750-9f9b-ced2c9da81e2",
   "metadata": {
    "tags": []
   },
   "outputs": [
    {
     "name": "stdout",
     "output_type": "stream",
     "text": [
      "Instr =  0 ( 0 )\n",
      "[1, 1, 1, 9]\n",
      "[0, 0, 0, 0]\n",
      "[0, 0, 0, 0]\n",
      "[0, 0, 0, 0]\n",
      "-------\n",
      "Instr =  1 ( 1 )\n",
      "[2, 2, 2, 6]\n",
      "[4, 4, 4, 0]\n",
      "[6, 6, 6, 0]\n",
      "[0, 0, 0, 0]\n",
      "-------\n",
      "Instr =  2 ( 2 )\n",
      "[0, 0, 0, 6]\n",
      "[2, 2, 2, 0]\n",
      "[10, 10, 10, 0]\n",
      "[2, 2, 2, 0]\n",
      "-------\n",
      "Instr =  3 ( 3 )\n",
      "[0, 0, 0, 6]\n",
      "[2, 2, 2, 0]\n",
      "[10, 10, 10, 0]\n",
      "[12, 12, 12, 0]\n",
      "-------\n",
      "Instr =  4 ( 4 )\n",
      "[8, 8, 8, 5]\n",
      "[0, 0, 0, 0]\n",
      "[4, 4, 4, 0]\n",
      "[24, 12, 12, 12]\n",
      "-------\n",
      "Instr =  5 ( 5 )\n",
      "[4, 4, 4, 5]\n",
      "[0, 0, 0, 0]\n",
      "[4, 4, 4, 0]\n",
      "[8, 8, 8, 36]\n",
      "-------\n",
      "Instr =  6 ( 6 )\n",
      "[4, 4, 4, 5]\n",
      "[0, 0, 0, 0]\n",
      "[4, 4, 4, 0]\n",
      "[12, 12, 12, 36]\n",
      "-------\n",
      "Instr =  7 ( 7 )\n",
      "[10, 10, 10, 4]\n",
      "[8, 8, 8, 0]\n",
      "[0, 0, 0, 0]\n",
      "[24, 12, 12, 12]\n",
      "-------\n",
      "Instr =  8 ( 8 )\n",
      "[5, 5, 5, 4]\n",
      "[4, 4, 4, 0]\n",
      "[8, 8, 8, 0]\n",
      "[10, 10, 10, 36]\n",
      "-------\n",
      "Instr =  9 ( 6 )\n",
      "[5, 5, 5, 4]\n",
      "[4, 4, 4, 0]\n",
      "[8, 8, 8, 0]\n",
      "[18, 18, 18, 36]\n",
      "-------\n",
      "Instr =  10 ( 7 )\n",
      "[12, 12, 12, 3]\n",
      "[10, 10, 10, 0]\n",
      "[8, 8, 8, 0]\n",
      "[36, 18, 18, 18]\n",
      "-------\n",
      "Instr =  11 ( 8 )\n",
      "[6, 6, 6, 3]\n",
      "[5, 5, 5, 0]\n",
      "[18, 18, 18, 0]\n",
      "[12, 12, 12, 54]\n",
      "-------\n",
      "Instr =  12 ( 6 )\n",
      "[6, 6, 6, 3]\n",
      "[5, 5, 5, 0]\n",
      "[18, 18, 18, 0]\n",
      "[30, 30, 30, 54]\n",
      "-------\n",
      "Instr =  13 ( 7 )\n",
      "[14, 14, 14, 2]\n",
      "[12, 12, 12, 0]\n",
      "[10, 10, 10, 0]\n",
      "[60, 30, 30, 30]\n",
      "-------\n",
      "Instr =  14 ( 8 )\n",
      "[7, 7, 7, 2]\n",
      "[6, 6, 6, 0]\n",
      "[22, 22, 22, 0]\n",
      "[14, 14, 14, 90]\n",
      "-------\n",
      "Instr =  15 ( 6 )\n",
      "[7, 7, 7, 2]\n",
      "[6, 6, 6, 0]\n",
      "[22, 22, 22, 0]\n",
      "[36, 36, 36, 90]\n",
      "-------\n",
      "Instr =  16 ( 7 )\n",
      "[16, 16, 16, 1]\n",
      "[14, 14, 14, 0]\n",
      "[12, 12, 12, 0]\n",
      "[72, 36, 36, 36]\n",
      "-------\n",
      "Instr =  17 ( 8 )\n",
      "[8, 8, 8, 1]\n",
      "[7, 7, 7, 0]\n",
      "[26, 26, 26, 0]\n",
      "[16, 16, 16, 108]\n",
      "-------\n",
      "Instr =  18 ( 6 )\n",
      "[8, 8, 8, 1]\n",
      "[7, 7, 7, 0]\n",
      "[26, 26, 26, 0]\n",
      "[42, 42, 42, 108]\n",
      "-------\n",
      "Instr =  19 ( 7 )\n",
      "[18, 18, 18, 0]\n",
      "[16, 16, 16, 0]\n",
      "[14, 14, 14, 0]\n",
      "[84, 42, 42, 42]\n",
      "-------\n",
      "Instr =  20 ( 8 )\n",
      "[9, 9, 9, 0]\n",
      "[8, 8, 8, 0]\n",
      "[30, 30, 30, 0]\n",
      "[18, 18, 18, 126]\n",
      "-------\n",
      "Instr =  21 ( 9 )\n",
      "[9, 9, 9, 0]\n",
      "[8, 8, 8, 0]\n",
      "[30, 30, 30, 0]\n",
      "[48, 48, 48, 126]\n",
      "-------\n",
      "Instr =  22 ( 10 )\n",
      "[9, 9, 9, 0]\n",
      "[8, 8, 8, 0]\n",
      "[30, 30, 30, 0]\n",
      "[96, 48, 48, 48]\n",
      "-------\n",
      "Instr =  23 ( 11 )\n",
      "[9, 9, 9, 0]\n",
      "[8, 8, 8, 0]\n",
      "[30, 30, 30, 0]\n",
      "[96, 48, 48, 144]\n",
      "-------\n",
      "Instr =  24 ( 12 )\n",
      "[9, 9, 9, 0]\n",
      "[8, 8, 8, 0]\n",
      "[30, 30, 30, 0]\n",
      "[96, 48, 48, 144]\n",
      "\n",
      "\n",
      "END\n"
     ]
    }
   ],
   "source": [
    "from cgra import *\n",
    "run(\"convolution\", \"_v2\")"
   ]
  },
  {
   "attachments": {},
   "cell_type": "markdown",
   "id": "3125a0e6",
   "metadata": {},
   "source": [
    "# Create a new kernel "
   ]
  },
  {
   "cell_type": "code",
   "execution_count": 5,
   "id": "88657fbf",
   "metadata": {},
   "outputs": [
    {
     "name": "stdout",
     "output_type": "stream",
     "text": [
      "Kernel strsearch already exists!\n",
      "6\n",
      "2\n"
     ]
    }
   ],
   "source": [
    "from sat_to_csv import *\n",
    "from kernels import *\n",
    "\n",
    "kernel_name = \"strsearch\"\n",
    "kernel_new(kernel_name)\n",
    "convert( kernel_name+\"/out.sat\", kernel_name+\"/instructions.csv\" )\n",
    "\n",
    "import random\n",
    "kernel_add_memory_region(kernel_name, 1000, range(255))\n",
    "kernel_add_memory_region(kernel_name, 3000, random.sample(range(20, 30), 50))\n"
   ]
  },
  {
   "cell_type": "code",
   "execution_count": 4,
   "id": "0baec11c",
   "metadata": {},
   "outputs": [
    {
     "ename": "IndexError",
     "evalue": "list index out of range",
     "output_type": "error",
     "traceback": [
      "\u001b[0;31m---------------------------------------------------------------------------\u001b[0m",
      "\u001b[0;31mIndexError\u001b[0m                                Traceback (most recent call last)",
      "Cell \u001b[0;32mIn[4], line 2\u001b[0m\n\u001b[1;32m      1\u001b[0m \u001b[39mimport\u001b[39;00m \u001b[39mcgra\u001b[39;00m\n\u001b[0;32m----> 2\u001b[0m cgra\u001b[39m.\u001b[39;49mrun( \u001b[39m\"\u001b[39;49m\u001b[39mstrsearch\u001b[39;49m\u001b[39m\"\u001b[39;49m )\n",
      "File \u001b[0;32m~/Desktop/ESL/9_simCGRA/cgra.py:314\u001b[0m, in \u001b[0;36mrun\u001b[0;34m(kernel, version)\u001b[0m\n\u001b[1;32m    311\u001b[0m \u001b[39mwith\u001b[39;00m \u001b[39mopen\u001b[39m( kernel \u001b[39m+\u001b[39m \u001b[39m\"\u001b[39m\u001b[39m/\u001b[39m\u001b[39m\"\u001b[39m\u001b[39m+\u001b[39mFILENAME_MEM\u001b[39m+\u001b[39mEXT, \u001b[39m'\u001b[39m\u001b[39mr\u001b[39m\u001b[39m'\u001b[39m) \u001b[39mas\u001b[39;00m f:\n\u001b[1;32m    312\u001b[0m     \u001b[39mfor\u001b[39;00m row \u001b[39min\u001b[39;00m csv\u001b[39m.\u001b[39mreader(f): mem\u001b[39m.\u001b[39mappend(row)\n\u001b[0;32m--> 314\u001b[0m oup, mem \u001b[39m=\u001b[39m CGRA( ker, mem, inp, oup )\u001b[39m.\u001b[39mrun()\n\u001b[1;32m    316\u001b[0m \u001b[39mwith\u001b[39;00m \u001b[39mopen\u001b[39m( kernel \u001b[39m+\u001b[39m \u001b[39m\"\u001b[39m\u001b[39m/\u001b[39m\u001b[39m\"\u001b[39m\u001b[39m+\u001b[39mFILENAME_MEM_O\u001b[39m+\u001b[39mEXT, \u001b[39m'\u001b[39m\u001b[39mw+\u001b[39m\u001b[39m'\u001b[39m) \u001b[39mas\u001b[39;00m f:\n\u001b[1;32m    317\u001b[0m     \u001b[39mfor\u001b[39;00m row \u001b[39min\u001b[39;00m mem: csv\u001b[39m.\u001b[39mwriter(f)\u001b[39m.\u001b[39mwriterow(row)\n",
      "File \u001b[0;32m~/Desktop/ESL/9_simCGRA/cgra.py:34\u001b[0m, in \u001b[0;36mCGRA.__init__\u001b[0;34m(self, kernel, memory, inputs, outputs)\u001b[0m\n\u001b[1;32m     32\u001b[0m \u001b[39mdef\u001b[39;00m \u001b[39m__init__\u001b[39m( \u001b[39mself\u001b[39m, kernel, memory, inputs, outputs ):\n\u001b[1;32m     33\u001b[0m     \u001b[39mself\u001b[39m\u001b[39m.\u001b[39mcells      \u001b[39m=\u001b[39m [[ PE( \u001b[39mself\u001b[39m, c,r) \u001b[39mfor\u001b[39;00m r \u001b[39min\u001b[39;00m \u001b[39mrange\u001b[39m(N_ROWS)] \u001b[39mfor\u001b[39;00m c \u001b[39min\u001b[39;00m \u001b[39mrange\u001b[39m(N_COLS)]\n\u001b[0;32m---> 34\u001b[0m     \u001b[39mself\u001b[39m\u001b[39m.\u001b[39minstrs     \u001b[39m=\u001b[39m ker_parse( kernel )\n\u001b[1;32m     35\u001b[0m     \u001b[39mself\u001b[39m\u001b[39m.\u001b[39mmemory     \u001b[39m=\u001b[39m memory\n\u001b[1;32m     36\u001b[0m     \u001b[39mself\u001b[39m\u001b[39m.\u001b[39minputs     \u001b[39m=\u001b[39m inputs\n",
      "File \u001b[0;32m~/Desktop/ESL/9_simCGRA/cgra.py:29\u001b[0m, in \u001b[0;36mker_parse\u001b[0;34m(data)\u001b[0m\n\u001b[1;32m     27\u001b[0m \u001b[39mdef\u001b[39;00m \u001b[39mker_parse\u001b[39m( data ):\n\u001b[1;32m     28\u001b[0m     instrs \u001b[39m=\u001b[39m \u001b[39mint\u001b[39m(\u001b[39mlen\u001b[39m(data)\u001b[39m/\u001b[39m( INSTR_SIZE  )) \u001b[39m# Always have a CSV with as many csv-columns as CGA-columns. Each instruction starts with the instruction timestamp i nthe first column. The next instruction must be immediately after the last row of this instruction.\u001b[39;00m\n\u001b[0;32m---> 29\u001b[0m     \u001b[39mreturn\u001b[39;00m [ INSTR( data[r_i\u001b[39m*\u001b[39mINSTR_SIZE:(r_i\u001b[39m+\u001b[39m\u001b[39m1\u001b[39m)\u001b[39m*\u001b[39mINSTR_SIZE][\u001b[39m0\u001b[39m:] ) \u001b[39mfor\u001b[39;00m r_i \u001b[39min\u001b[39;00m \u001b[39mrange\u001b[39m(instrs) ]\n",
      "File \u001b[0;32m~/Desktop/ESL/9_simCGRA/cgra.py:29\u001b[0m, in \u001b[0;36m<listcomp>\u001b[0;34m(.0)\u001b[0m\n\u001b[1;32m     27\u001b[0m \u001b[39mdef\u001b[39;00m \u001b[39mker_parse\u001b[39m( data ):\n\u001b[1;32m     28\u001b[0m     instrs \u001b[39m=\u001b[39m \u001b[39mint\u001b[39m(\u001b[39mlen\u001b[39m(data)\u001b[39m/\u001b[39m( INSTR_SIZE  )) \u001b[39m# Always have a CSV with as many csv-columns as CGA-columns. Each instruction starts with the instruction timestamp i nthe first column. The next instruction must be immediately after the last row of this instruction.\u001b[39;00m\n\u001b[0;32m---> 29\u001b[0m     \u001b[39mreturn\u001b[39;00m [ INSTR( data[r_i\u001b[39m*\u001b[39;49mINSTR_SIZE:(r_i\u001b[39m+\u001b[39;49m\u001b[39m1\u001b[39;49m)\u001b[39m*\u001b[39;49mINSTR_SIZE][\u001b[39m0\u001b[39;49m:] ) \u001b[39mfor\u001b[39;00m r_i \u001b[39min\u001b[39;00m \u001b[39mrange\u001b[39m(instrs) ]\n",
      "File \u001b[0;32m~/Desktop/ESL/9_simCGRA/cgra.py:25\u001b[0m, in \u001b[0;36mINSTR.__init__\u001b[0;34m(self, matrix)\u001b[0m\n\u001b[1;32m     23\u001b[0m \u001b[39mdef\u001b[39;00m \u001b[39m__init__\u001b[39m( \u001b[39mself\u001b[39m,matrix):\n\u001b[1;32m     24\u001b[0m     \u001b[39mself\u001b[39m\u001b[39m.\u001b[39mtime \u001b[39m=\u001b[39m matrix[\u001b[39m0\u001b[39m][\u001b[39m0\u001b[39m]                        \u001b[39m# ToDo: Fix how we assign this length\u001b[39;00m\n\u001b[0;32m---> 25\u001b[0m     \u001b[39mself\u001b[39m\u001b[39m.\u001b[39mops \u001b[39m=\u001b[39m [[ matrix[r\u001b[39m+\u001b[39m\u001b[39m1\u001b[39m][c] \u001b[39mfor\u001b[39;00m c \u001b[39min\u001b[39;00m \u001b[39mrange\u001b[39m(N_COLS)] \u001b[39mfor\u001b[39;00m r \u001b[39min\u001b[39;00m \u001b[39mrange\u001b[39m(N_ROWS)]\n",
      "File \u001b[0;32m~/Desktop/ESL/9_simCGRA/cgra.py:25\u001b[0m, in \u001b[0;36m<listcomp>\u001b[0;34m(.0)\u001b[0m\n\u001b[1;32m     23\u001b[0m \u001b[39mdef\u001b[39;00m \u001b[39m__init__\u001b[39m( \u001b[39mself\u001b[39m,matrix):\n\u001b[1;32m     24\u001b[0m     \u001b[39mself\u001b[39m\u001b[39m.\u001b[39mtime \u001b[39m=\u001b[39m matrix[\u001b[39m0\u001b[39m][\u001b[39m0\u001b[39m]                        \u001b[39m# ToDo: Fix how we assign this length\u001b[39;00m\n\u001b[0;32m---> 25\u001b[0m     \u001b[39mself\u001b[39m\u001b[39m.\u001b[39mops \u001b[39m=\u001b[39m [[ matrix[r\u001b[39m+\u001b[39m\u001b[39m1\u001b[39m][c] \u001b[39mfor\u001b[39;00m c \u001b[39min\u001b[39;00m \u001b[39mrange\u001b[39m(N_COLS)] \u001b[39mfor\u001b[39;00m r \u001b[39min\u001b[39;00m \u001b[39mrange\u001b[39m(N_ROWS)]\n",
      "File \u001b[0;32m~/Desktop/ESL/9_simCGRA/cgra.py:25\u001b[0m, in \u001b[0;36m<listcomp>\u001b[0;34m(.0)\u001b[0m\n\u001b[1;32m     23\u001b[0m \u001b[39mdef\u001b[39;00m \u001b[39m__init__\u001b[39m( \u001b[39mself\u001b[39m,matrix):\n\u001b[1;32m     24\u001b[0m     \u001b[39mself\u001b[39m\u001b[39m.\u001b[39mtime \u001b[39m=\u001b[39m matrix[\u001b[39m0\u001b[39m][\u001b[39m0\u001b[39m]                        \u001b[39m# ToDo: Fix how we assign this length\u001b[39;00m\n\u001b[0;32m---> 25\u001b[0m     \u001b[39mself\u001b[39m\u001b[39m.\u001b[39mops \u001b[39m=\u001b[39m [[ matrix[r\u001b[39m+\u001b[39;49m\u001b[39m1\u001b[39;49m][c] \u001b[39mfor\u001b[39;00m c \u001b[39min\u001b[39;00m \u001b[39mrange\u001b[39m(N_COLS)] \u001b[39mfor\u001b[39;00m r \u001b[39min\u001b[39;00m \u001b[39mrange\u001b[39m(N_ROWS)]\n",
      "\u001b[0;31mIndexError\u001b[0m: list index out of range"
     ]
    }
   ],
   "source": [
    "import cgra\n",
    "cgra.run( \"strsearch\" )"
   ]
  },
  {
   "attachments": {},
   "cell_type": "markdown",
   "id": "51334fa4",
   "metadata": {},
   "source": [
    "# Your turn to play around"
   ]
  },
  {
   "cell_type": "code",
   "execution_count": null,
   "id": "64ef2def",
   "metadata": {},
   "outputs": [],
   "source": []
  }
 ],
 "metadata": {
  "kernelspec": {
   "display_name": "Python 3 (ipykernel)",
   "language": "python",
   "name": "python3"
  },
  "language_info": {
   "codemirror_mode": {
    "name": "ipython",
    "version": 3
   },
   "file_extension": ".py",
   "mimetype": "text/x-python",
   "name": "python",
   "nbconvert_exporter": "python",
   "pygments_lexer": "ipython3",
   "version": "3.10.12"
  }
 },
 "nbformat": 4,
 "nbformat_minor": 5
}
